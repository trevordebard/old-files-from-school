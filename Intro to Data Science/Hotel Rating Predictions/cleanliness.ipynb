{
 "cells": [
  {
   "cell_type": "code",
   "execution_count": 17,
   "metadata": {},
   "outputs": [],
   "source": [
    "import time\n",
    "import pylab\n",
    "best_scores = {}\n",
    "worst_scores = {}\n",
    "import matplotlib.pyplot as plt\n",
    "\n",
    "# A function to generate a bar graph from a dictionary d\n",
    "def createBar(d, title, xlabel='', ylabel=''):\n",
    "    plt.bar(range(len(d)), list(d.values()), align='center')\n",
    "    plt.xticks(range(len(d)), list(d.keys()), rotation=20)\n",
    "    plt.title(title)\n",
    "    plt.xlabel(xlabel)\n",
    "    plt.ylabel(ylabel)\n",
    "    pylab.show()"
   ]
  },
  {
   "cell_type": "code",
   "execution_count": 18,
   "metadata": {},
   "outputs": [],
   "source": [
    "# Pandas is used for data manipulation\n",
    "import pandas as pd\n",
    "# Read in data and display first 5 rows\n",
    "features = pd.read_csv('cities.csv')\n",
    "features = features.drop(['Unnamed: 18', 'doc_id', 'hotel_name', 'hotel_url', 'state', 'country', 'street', 'zip', 'class', 'price', 'COMFORT'],axis=1)\n",
    "\n",
    "features = features[features.CLEANLINESS != 0]"
   ]
  },
  {
   "cell_type": "code",
   "execution_count": 19,
   "metadata": {},
   "outputs": [
    {
     "data": {
      "text/html": [
       "<div>\n",
       "<style scoped>\n",
       "    .dataframe tbody tr th:only-of-type {\n",
       "        vertical-align: middle;\n",
       "    }\n",
       "\n",
       "    .dataframe tbody tr th {\n",
       "        vertical-align: top;\n",
       "    }\n",
       "\n",
       "    .dataframe thead th {\n",
       "        text-align: right;\n",
       "    }\n",
       "</style>\n",
       "<table border=\"1\" class=\"dataframe\">\n",
       "  <thead>\n",
       "    <tr style=\"text-align: right;\">\n",
       "      <th></th>\n",
       "      <th>num_reviews</th>\n",
       "      <th>CLEANLINESS</th>\n",
       "      <th>ROOM</th>\n",
       "      <th>SERVICE</th>\n",
       "      <th>LOCATION</th>\n",
       "      <th>VALUE</th>\n",
       "      <th>overall_ratingsource</th>\n",
       "      <th>city_beijing</th>\n",
       "      <th>city_chicago</th>\n",
       "      <th>city_dubai</th>\n",
       "      <th>city_las vegas</th>\n",
       "      <th>city_london</th>\n",
       "      <th>city_montreal</th>\n",
       "      <th>city_new delhi</th>\n",
       "      <th>city_new york city</th>\n",
       "      <th>city_san francisco</th>\n",
       "      <th>city_shanghai</th>\n",
       "    </tr>\n",
       "  </thead>\n",
       "  <tbody>\n",
       "    <tr>\n",
       "      <th>0</th>\n",
       "      <td>212</td>\n",
       "      <td>4.729508</td>\n",
       "      <td>4.655738</td>\n",
       "      <td>4.647541</td>\n",
       "      <td>4.844262</td>\n",
       "      <td>4.483607</td>\n",
       "      <td>4.672131</td>\n",
       "      <td>0</td>\n",
       "      <td>1</td>\n",
       "      <td>0</td>\n",
       "      <td>0</td>\n",
       "      <td>0</td>\n",
       "      <td>0</td>\n",
       "      <td>0</td>\n",
       "      <td>0</td>\n",
       "      <td>0</td>\n",
       "      <td>0</td>\n",
       "    </tr>\n",
       "    <tr>\n",
       "      <th>1</th>\n",
       "      <td>346</td>\n",
       "      <td>4.760797</td>\n",
       "      <td>4.558140</td>\n",
       "      <td>4.604651</td>\n",
       "      <td>4.794020</td>\n",
       "      <td>4.289037</td>\n",
       "      <td>4.601329</td>\n",
       "      <td>0</td>\n",
       "      <td>1</td>\n",
       "      <td>0</td>\n",
       "      <td>0</td>\n",
       "      <td>0</td>\n",
       "      <td>0</td>\n",
       "      <td>0</td>\n",
       "      <td>0</td>\n",
       "      <td>0</td>\n",
       "      <td>0</td>\n",
       "    </tr>\n",
       "    <tr>\n",
       "      <th>2</th>\n",
       "      <td>128</td>\n",
       "      <td>4.888889</td>\n",
       "      <td>4.842593</td>\n",
       "      <td>4.574074</td>\n",
       "      <td>4.861111</td>\n",
       "      <td>4.314815</td>\n",
       "      <td>4.696296</td>\n",
       "      <td>0</td>\n",
       "      <td>1</td>\n",
       "      <td>0</td>\n",
       "      <td>0</td>\n",
       "      <td>0</td>\n",
       "      <td>0</td>\n",
       "      <td>0</td>\n",
       "      <td>0</td>\n",
       "      <td>0</td>\n",
       "      <td>0</td>\n",
       "    </tr>\n",
       "    <tr>\n",
       "      <th>3</th>\n",
       "      <td>141</td>\n",
       "      <td>4.757576</td>\n",
       "      <td>4.590909</td>\n",
       "      <td>4.492424</td>\n",
       "      <td>4.742424</td>\n",
       "      <td>4.393939</td>\n",
       "      <td>4.595455</td>\n",
       "      <td>0</td>\n",
       "      <td>1</td>\n",
       "      <td>0</td>\n",
       "      <td>0</td>\n",
       "      <td>0</td>\n",
       "      <td>0</td>\n",
       "      <td>0</td>\n",
       "      <td>0</td>\n",
       "      <td>0</td>\n",
       "      <td>0</td>\n",
       "    </tr>\n",
       "    <tr>\n",
       "      <th>4</th>\n",
       "      <td>82</td>\n",
       "      <td>4.787500</td>\n",
       "      <td>4.600000</td>\n",
       "      <td>4.650000</td>\n",
       "      <td>4.725000</td>\n",
       "      <td>4.462500</td>\n",
       "      <td>4.645000</td>\n",
       "      <td>0</td>\n",
       "      <td>1</td>\n",
       "      <td>0</td>\n",
       "      <td>0</td>\n",
       "      <td>0</td>\n",
       "      <td>0</td>\n",
       "      <td>0</td>\n",
       "      <td>0</td>\n",
       "      <td>0</td>\n",
       "      <td>0</td>\n",
       "    </tr>\n",
       "  </tbody>\n",
       "</table>\n",
       "</div>"
      ],
      "text/plain": [
       "   num_reviews  CLEANLINESS      ROOM   SERVICE  LOCATION     VALUE  \\\n",
       "0          212     4.729508  4.655738  4.647541  4.844262  4.483607   \n",
       "1          346     4.760797  4.558140  4.604651  4.794020  4.289037   \n",
       "2          128     4.888889  4.842593  4.574074  4.861111  4.314815   \n",
       "3          141     4.757576  4.590909  4.492424  4.742424  4.393939   \n",
       "4           82     4.787500  4.600000  4.650000  4.725000  4.462500   \n",
       "\n",
       "   overall_ratingsource  city_beijing  city_chicago  city_dubai  \\\n",
       "0              4.672131             0             1           0   \n",
       "1              4.601329             0             1           0   \n",
       "2              4.696296             0             1           0   \n",
       "3              4.595455             0             1           0   \n",
       "4              4.645000             0             1           0   \n",
       "\n",
       "   city_las vegas  city_london  city_montreal  city_new delhi  \\\n",
       "0               0            0              0               0   \n",
       "1               0            0              0               0   \n",
       "2               0            0              0               0   \n",
       "3               0            0              0               0   \n",
       "4               0            0              0               0   \n",
       "\n",
       "   city_new york city  city_san francisco  city_shanghai  \n",
       "0                   0                   0              0  \n",
       "1                   0                   0              0  \n",
       "2                   0                   0              0  \n",
       "3                   0                   0              0  \n",
       "4                   0                   0              0  "
      ]
     },
     "execution_count": 19,
     "metadata": {},
     "output_type": "execute_result"
    }
   ],
   "source": [
    "features = pd.get_dummies(features) #convert city names to attributes with 1/0 values\n",
    "features.iloc[:,:].head(5)"
   ]
  },
  {
   "cell_type": "code",
   "execution_count": 20,
   "metadata": {},
   "outputs": [],
   "source": [
    "import numpy as np\n",
    "\n",
    "predict = np.array(features['CLEANLINESS'])\n",
    "# We want to predict cleanliness\n",
    "features= features.drop(['CLEANLINESS'], axis = 1)\n",
    "feature_list = list(features.columns)\n",
    "\n",
    "features = np.array(features)"
   ]
  },
  {
   "cell_type": "code",
   "execution_count": 21,
   "metadata": {},
   "outputs": [],
   "source": [
    "from sklearn.model_selection import train_test_split\n",
    "# Split the data into training and testing sets\n",
    "X_train, X_test, y_train, y_test = train_test_split(features, predict, test_size = 0.25, random_state = 42)"
   ]
  },
  {
   "cell_type": "code",
   "execution_count": 22,
   "metadata": {},
   "outputs": [
    {
     "name": "stdout",
     "output_type": "stream",
     "text": [
      "-------DecisionTreeClassifier-------\n",
      "Accuracy: 0.8116147308781869\n"
     ]
    }
   ],
   "source": [
    "from sklearn.tree import DecisionTreeClassifier\n",
    "print('-------DecisionTreeClassifier-------')\n",
    "\n",
    "\n",
    "start = time.time()\n",
    "\n",
    "tree = DecisionTreeClassifier(criterion='gini')\n",
    "y = np.array(y_train).astype(int)\n",
    "tree.fit(X_train, y)\n",
    "yp = tree.predict(X_test)\n",
    "\n",
    "y_test  = np.array(y_test).astype(int)\n",
    "from sklearn.metrics import accuracy_score\n",
    "accuracy = accuracy_score(y_test, yp)\n",
    "print('Accuracy: ' + str(accuracy))\n",
    "best_scores['Decision Tree'] = accuracy\n",
    "worst_scores['Decision Tree'] = accuracy\n",
    "\n",
    "end = time.time()\n",
    "DT_time = end-start"
   ]
  },
  {
   "cell_type": "code",
   "execution_count": 23,
   "metadata": {},
   "outputs": [
    {
     "name": "stdout",
     "output_type": "stream",
     "text": [
      "\n",
      "-------Multinomial NB-------\n",
      "Accuracy: 0.3286118980169972\n"
     ]
    }
   ],
   "source": [
    "from sklearn.naive_bayes import MultinomialNB\n",
    "from sklearn.metrics import accuracy_score\n",
    "print('\\n-------Multinomial NB-------')\n",
    "start = time.time()\n",
    "\n",
    "clf = MultinomialNB()\n",
    "y = np.array(y_train).astype(int)\n",
    "clf.fit(X_train, y)\n",
    "yp = clf.predict(X_test)\n",
    "\n",
    "y_test  = np.array(y_test).astype(float)\n",
    "accuracy = accuracy_score(y_test, yp)\n",
    "print('Accuracy: ' + str(accuracy))\n",
    "best_scores['MultinomialNB'] = accuracy\n",
    "worst_scores['MultinomialNB'] = accuracy\n",
    "\n",
    "end = time.time()\n",
    "NB_time = end - start"
   ]
  },
  {
   "cell_type": "code",
   "execution_count": 24,
   "metadata": {},
   "outputs": [
    {
     "name": "stdout",
     "output_type": "stream",
     "text": [
      "\n",
      "-------LinearRegression-------\n",
      "Explained Variance Score: 0.8968597858031373\n"
     ]
    }
   ],
   "source": [
    "from sklearn.linear_model import LinearRegression\n",
    "from sklearn import metrics\n",
    "print('\\n-------LinearRegression-------')\n",
    "\n",
    "start = time.time()\n",
    "\n",
    "regression = LinearRegression()\n",
    "regression.fit(X_train, y)\n",
    "y_pred = regression.predict(X_test)\n",
    "\n",
    "end = time.time()\n",
    "LR_time = end - start\n",
    "print('Explained Variance Score: '+ str(metrics.explained_variance_score(y_test, y_pred)))"
   ]
  },
  {
   "cell_type": "code",
   "execution_count": 25,
   "metadata": {},
   "outputs": [
    {
     "name": "stdout",
     "output_type": "stream",
     "text": [
      "\n",
      "-------SVC-------\n",
      "Accuracy score of hyperparamater C at 0.010000 = 0.786119\n",
      "Accuracy score of hyperparamater C at 0.100000 = 0.827195\n",
      "Accuracy score of hyperparamater C at 1.000000 = 0.883853\n",
      "Accuracy score of hyperparamater C at 10.000000 = 0.963173\n",
      "Accuracy score of hyperparamater C at 20.000000 = 0.971671\n"
     ]
    }
   ],
   "source": [
    "from sklearn.svm import SVC\n",
    "print('\\n-------SVC-------')\n",
    "\n",
    "start = time.time()\n",
    "\n",
    "c = [.01,.1, 1, 10, 20]\n",
    "svc_accuracy = {}\n",
    "best = 0\n",
    "worst = 1000\n",
    "\n",
    "for i in c:\n",
    "    svc = SVC(kernel = 'linear', C=i)\n",
    "    y = np.array(y_train).astype(int)\n",
    "    svc.fit(X_train, y)\n",
    "    yp = svc.predict(X_test)\n",
    "    y_test  = np.array(y_test).astype(float)\n",
    "    accuracy = accuracy_score(y_test, yp)\n",
    "    if accuracy > best:\n",
    "        best = accuracy\n",
    "    if accuracy < worst:\n",
    "        worst = accuracy\n",
    "    svc_accuracy[str(i)] = accuracy\n",
    "    print('Accuracy score of hyperparamater C at {:f} = {:f}'.format(i,accuracy))\n",
    "\n",
    "best_scores['SVC'] = best\n",
    "worst_scores['SVC'] = worst\n",
    "\n",
    "end = time.time()\n",
    "SVC_time = end-start"
   ]
  },
  {
   "cell_type": "code",
   "execution_count": 38,
   "metadata": {},
   "outputs": [
    {
     "data": {
      "image/png": "[encoded data removed]",
      "text/plain": [
       "<Figure size 432x288 with 1 Axes>"
      ]
     },
     "metadata": {
      "needs_background": "light"
     },
     "output_type": "display_data"
    }
   ],
   "source": [
    "createBar(svc_accuracy, 'SVC Accuracy Scores', 'Hyperparameter C', 'Accuracy')"
   ]
  },
  {
   "cell_type": "code",
   "execution_count": 27,
   "metadata": {},
   "outputs": [
    {
     "name": "stderr",
     "output_type": "stream",
     "text": [
      "/anaconda3/lib/python3.7/site-packages/sklearn/ensemble/weight_boosting.py:29: DeprecationWarning: numpy.core.umath_tests is an internal NumPy module and should not be imported. It will be removed in a future NumPy release.\n",
      "  from numpy.core.umath_tests import inner1d\n"
     ]
    },
    {
     "name": "stdout",
     "output_type": "stream",
     "text": [
      "\n",
      "-------RandomForestClassifier-------\n",
      "Accuracy score for hyper paramater: n_estimators at 20.000000 = 0.844193\n",
      "Accuracy score for hyper paramater: n_estimators at 100.000000 = 0.841360\n",
      "Accuracy score for hyper paramater: n_estimators at 500.000000 = 0.847025\n",
      "Accuracy score for hyper paramater: n_estimators at 1000.000000 = 0.848442\n"
     ]
    }
   ],
   "source": [
    "from sklearn.ensemble import RandomForestClassifier\n",
    "print('\\n-------RandomForestClassifier-------')\n",
    "\n",
    "start = time.time()\n",
    "\n",
    "estimators=[20, 100, 500, 1000]\n",
    "best = 0\n",
    "worst = 1000\n",
    "rfc_accuracy = {}\n",
    "for x in estimators: \n",
    "    model = RandomForestClassifier(n_estimators=x)\n",
    "    y = np.array(y_train).astype(int)\n",
    "    model.fit(X_train, y)\n",
    "    yp = model.predict(X_test)\n",
    "    y_test  = np.array(y_test).astype(float)\n",
    "    accuracy = accuracy_score(y_test, yp)\n",
    "    rfc_accuracy[str(x)] = accuracy\n",
    "    if accuracy > best:\n",
    "        best = accuracy\n",
    "    if accuracy < worst:\n",
    "        worst = accuracy\n",
    "    print('Accuracy score for hyper paramater: n_estimators at {:f} = {:f}'.format(x,accuracy))\n",
    "best_scores['RandomForestClassifier'] = best\n",
    "worst_scores['RandomForestClassifier'] = worst\n",
    "\n",
    "end = time.time()\n",
    "RF_time = end - start"
   ]
  },
  {
   "cell_type": "code",
   "execution_count": 28,
   "metadata": {},
   "outputs": [
    {
     "data": {
      "image/png": "[encoded data removed]",
      "text/plain": [
       "<Figure size 432x288 with 1 Axes>"
      ]
     },
     "metadata": {
      "needs_background": "light"
     },
     "output_type": "display_data"
    }
   ],
   "source": [
    "createBar(rfc_accuracy, \"Random Forrest Classifier Accuracy\", 'Hyperparameter n_estimators', 'Accuracy')"
   ]
  },
  {
   "cell_type": "code",
   "execution_count": 39,
   "metadata": {},
   "outputs": [
    {
     "data": {
      "image/png": "[encoded data removed]",
      "text/plain": [
       "<Figure size 432x288 with 1 Axes>"
      ]
     },
     "metadata": {
      "needs_background": "light"
     },
     "output_type": "display_data"
    }
   ],
   "source": [
    "createBar(best_scores, 'Best Accuracy Score for each Model', 'Model', 'Accuracy')"
   ]
  },
  {
   "cell_type": "code",
   "execution_count": 40,
   "metadata": {},
   "outputs": [
    {
     "data": {
      "image/png": "[encoded data removed]",
      "text/plain": [
       "<Figure size 432x288 with 1 Axes>"
      ]
     },
     "metadata": {
      "needs_background": "light"
     },
     "output_type": "display_data"
    }
   ],
   "source": [
    "createBar(worst_scores, 'Worst Accuracy Score for each Model', 'Model', 'Accuracy')"
   ]
  },
  {
   "cell_type": "code",
   "execution_count": 41,
   "metadata": {},
   "outputs": [
    {
     "data": {
      "image/png": "[encoded data removed]",
      "text/plain": [
       "<Figure size 432x288 with 1 Axes>"
      ]
     },
     "metadata": {
      "needs_background": "light"
     },
     "output_type": "display_data"
    }
   ],
   "source": [
    "times = {'SVC': SVC_time, 'RandomForestClassifier': RF_time}\n",
    "createBar(times, 'Time to Fit, Predict, and Determine Accuracy for All Paramethers', 'Model', 'Time (seconds)')"
   ]
  },
  {
   "cell_type": "code",
   "execution_count": 37,
   "metadata": {},
   "outputs": [
    {
     "data": {
      "image/png": "[encoded data removed]",
      "text/plain": [
       "<Figure size 432x288 with 1 Axes>"
      ]
     },
     "metadata": {
      "needs_background": "light"
     },
     "output_type": "display_data"
    }
   ],
   "source": [
    "times = {'MultinomialNB': NB_time, 'Decision Tree': DT_time}\n",
    "createBar(times, 'Time to Fit, Predict, and Determine Accuracy', 'Model', 'Time (seconds)')"
   ]
  }
 ],
 "metadata": {
  "kernelspec": {
   "display_name": "Python 3",
   "language": "python",
   "name": "python3"
  },
  "language_info": {
   "codemirror_mode": {
    "name": "ipython",
    "version": 3
   },
   "file_extension": ".py",
   "mimetype": "text/x-python",
   "name": "python",
   "nbconvert_exporter": "python",
   "pygments_lexer": "ipython3",
   "version": "3.7.0"
  }
 },
 "nbformat": 4,
 "nbformat_minor": 2
}
